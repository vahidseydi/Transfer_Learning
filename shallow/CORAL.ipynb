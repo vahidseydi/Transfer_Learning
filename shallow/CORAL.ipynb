{
 "cells": [
  {
   "cell_type": "markdown",
   "metadata": {},
   "source": [
    "# Correlation Alignment (CORAL)"
   ]
  },
  {
   "cell_type": "markdown",
   "metadata": {},
   "source": [
    "Import the Necessary Modules:"
   ]
  },
  {
   "cell_type": "code",
   "execution_count": 8,
   "metadata": {},
   "outputs": [],
   "source": [
    "import numpy as np\n",
    "import scipy.io\n",
    "import scipy.linalg\n",
    "import sklearn.metrics\n",
    "import sklearn.neighbors"
   ]
  },
  {
   "cell_type": "markdown",
   "metadata": {},
   "source": [
    "def fit: Perform CORAL on the source domain features\n",
    "\n",
    "        :param Xs: ns * n_feature, source feature\n",
    "        :param Xt: nt * n_feature, target feature\n",
    "        :return: New source domain features\n",
    "        \n",
    "def fit_predict: Perform CORAL, then predict using 1NN classifier\n",
    "\n",
    "        :param Xs: ns * n_feature, source feature\n",
    "        :param Ys: ns * 1, source label\n",
    "        :param Xt: nt * n_feature, target feature\n",
    "        :param Yt: nt * 1, target label\n",
    "        :return: Accuracy and predicted labels of target domain"
   ]
  },
  {
   "cell_type": "code",
   "execution_count": 9,
   "metadata": {},
   "outputs": [],
   "source": [
    "class CORAL:\n",
    "    def __init__(self):\n",
    "        super(CORAL, self).__init__()\n",
    "\n",
    "    def fit(self, Xs, Xt):\n",
    "        cov_src = np.cov(Xs.T) + np.eye(Xs.shape[1])\n",
    "        cov_tar = np.cov(Xt.T) + np.eye(Xt.shape[1])\n",
    "        A_coral = np.dot(scipy.linalg.fractional_matrix_power(cov_src, -0.5),\n",
    "                         scipy.linalg.fractional_matrix_power(cov_tar, 0.5))\n",
    "        Xs_new = np.dot(Xs, A_coral)\n",
    "        return Xs_new\n",
    "\n",
    "    def fit_predict(self, Xs, Ys, Xt, Yt):\n",
    "        Xs_new = self.fit(Xs, Xt)\n",
    "        clf = sklearn.neighbors.KNeighborsClassifier(n_neighbors=1)\n",
    "        clf.fit(Xs_new, Ys.ravel())\n",
    "        y_pred = clf.predict(Xt)\n",
    "        acc = sklearn.metrics.accuracy_score(Yt, y_pred)\n",
    "        return acc, y_pred"
   ]
  },
  {
   "cell_type": "code",
   "execution_count": null,
   "metadata": {},
   "outputs": [
    {
     "name": "stdout",
     "output_type": "stream",
     "text": [
      "0.2359081419624217\n"
     ]
    }
   ],
   "source": [
    "if __name__ == '__main__':\n",
    "    domains = ['caltech.mat', 'amazon.mat', 'webcam.mat', 'dslr.mat']\n",
    "    for i in range(4):\n",
    "        for j in range(4):\n",
    "            if i != j:\n",
    "                src, tar = 'data/' + domains[i], 'data/' + domains[j]\n",
    "                src_domain, tar_domain = scipy.io.loadmat(src), scipy.io.loadmat(tar)\n",
    "                Xs, Ys, Xt, Yt = src_domain['feas'], src_domain['label'], tar_domain['feas'], tar_domain['label']\n",
    "                coral = CORAL()\n",
    "                acc, ypre = coral.fit_predict(Xs, Ys, Xt, Yt)\n",
    "                print(acc)"
   ]
  },
  {
   "cell_type": "code",
   "execution_count": null,
   "metadata": {},
   "outputs": [],
   "source": []
  }
 ],
 "metadata": {
  "kernelspec": {
   "display_name": "Python 3",
   "language": "python",
   "name": "python3"
  },
  "language_info": {
   "codemirror_mode": {
    "name": "ipython",
    "version": 3
   },
   "file_extension": ".py",
   "mimetype": "text/x-python",
   "name": "python",
   "nbconvert_exporter": "python",
   "pygments_lexer": "ipython3",
   "version": "3.7.3"
  }
 },
 "nbformat": 4,
 "nbformat_minor": 2
}
