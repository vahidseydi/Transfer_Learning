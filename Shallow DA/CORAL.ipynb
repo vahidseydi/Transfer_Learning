{
 "cells": [
  {
   "cell_type": "markdown",
   "metadata": {},
   "source": [
    "# Correlation Alignment (CORAL)"
   ]
  },
  {
   "cell_type": "markdown",
   "metadata": {},
   "source": [
    "CORAL minimizes domain shift by aligning the second-order statistics of source and target distributions, without requiring any target labels.\n",
    "\n",
    "To minimize the distance between the second-order statistics (covariance) of the source and target features, a linear transformation A is applied to the original source features and use the Frobenius norm as the matrix distance metric."
   ]
  },
  {
   "cell_type": "markdown",
   "metadata": {},
   "source": [
    "Reference\n",
    "\n",
    "Sun B, Feng J, Saenko K. Return of frustratingly easy domain adaptation. AAAI. 2016, 6(7): 8."
   ]
  },
  {
   "cell_type": "code",
   "execution_count": 2,
   "metadata": {},
   "outputs": [],
   "source": [
    "import numpy as np\n",
    "import scipy.io\n",
    "import scipy.linalg\n",
    "import sklearn.metrics\n",
    "import sklearn.neighbors"
   ]
  },
  {
   "cell_type": "code",
   "execution_count": 13,
   "metadata": {},
   "outputs": [],
   "source": [
    "class CORAL:\n",
    "    def __init__(self):\n",
    "        super(CORAL, self).__init__()\n",
    "\n",
    "    def fit(self, Xs, Xt):\n",
    "        '''\n",
    "        Perform CORAL on the source domain features\n",
    "        :param Xs: ns * n_feature, source feature\n",
    "        :param Xt: nt * n_feature, target feature\n",
    "        :return: New source domain features\n",
    "        '''\n",
    "        cov_src = np.cov(Xs.T) + np.eye(Xs.shape[1])\n",
    "        cov_tar = np.cov(Xt.T) + np.eye(Xt.shape[1])\n",
    "        A_coral = np.dot(scipy.linalg.fractional_matrix_power(cov_src, -0.5),\n",
    "                         scipy.linalg.fractional_matrix_power(cov_tar, 0.5))\n",
    "        Xs_new = np.dot(Xs, A_coral).astype(float)\n",
    "        #Xs_new = np.dot(Xs, A_coral)\n",
    "        return Xs_new\n",
    "\n",
    "    def fit_predict(self, Xs, Ys, Xt, Yt):\n",
    "        '''\n",
    "        Perform CORAL, then predict using 1NN classifier\n",
    "        :param Xs: ns * n_feature, source feature\n",
    "        :param Ys: ns * 1, source label\n",
    "        :param Xt: nt * n_feature, target feature\n",
    "        :param Yt: nt * 1, target label\n",
    "        :return: Accuracy and predicted labels of target domain\n",
    "        '''\n",
    "        Xs_new = self.fit(Xs, Xt)\n",
    "        clf = sklearn.neighbors.KNeighborsClassifier(n_neighbors=1)\n",
    "        clf.fit(Xs_new, Ys.ravel())\n",
    "        y_pred = clf.predict(Xt)\n",
    "        acc = sklearn.metrics.accuracy_score(Yt, y_pred)\n",
    "        return acc, y_pred"
   ]
  },
  {
   "cell_type": "code",
   "execution_count": 15,
   "metadata": {},
   "outputs": [
    {
     "name": "stdout",
     "output_type": "stream",
     "text": [
      "Classification accuracy on webcam_SURF_L10.mat v.s. dslr_SURF_L10.mat = 0.7133757961783439\n"
     ]
    },
    {
     "name": "stderr",
     "output_type": "stream",
     "text": [
      "<ipython-input-13-db57bd129d61>:16: ComplexWarning: Casting complex values to real discards the imaginary part\n",
      "  Xs_new = np.dot(Xs, A_coral).astype(float)\n"
     ]
    }
   ],
   "source": [
    "if __name__ == '__main__':\n",
    "    domains = ['caltech_SURF_L10.mat', 'amazon_SURF_L10.mat', 'webcam_SURF_L10.mat', 'dslr_SURF_L10.mat']\n",
    "    for i in [2]:\n",
    "        for j in [3]:\n",
    "            if i != j:\n",
    "                src, tar = 'data\\\\' + domains[i], 'data\\\\' + domains[j]\n",
    "                src_domain, tar_domain = scipy.io.loadmat(src), scipy.io.loadmat(tar)\n",
    "                Xs, Ys, Xt, Yt = src_domain['fts'], src_domain['labels'], tar_domain['fts'], tar_domain['labels']\n",
    "                coral = CORAL()\n",
    "                acc, ypre = coral.fit_predict(Xs, Ys, Xt, Yt)\n",
    "                print(\"Classification accuracy on\" ,domains[i], \"v.s.\", domains[j], \"=\", acc)"
   ]
  }
 ],
 "metadata": {
  "kernelspec": {
   "display_name": "Python 3",
   "language": "python",
   "name": "python3"
  },
  "language_info": {
   "codemirror_mode": {
    "name": "ipython",
    "version": 3
   },
   "file_extension": ".py",
   "mimetype": "text/x-python",
   "name": "python",
   "nbconvert_exporter": "python",
   "pygments_lexer": "ipython3",
   "version": "3.8.1"
  }
 },
 "nbformat": 4,
 "nbformat_minor": 4
}
